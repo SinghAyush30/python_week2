{
 "cells": [
  {
   "cell_type": "markdown",
   "id": "57a7ceb3-81f5-4226-9e8c-0b355c5ed80d",
   "metadata": {},
   "source": [
    "Ans(1)-In python code can be commented using hash\"#\". And different types of method to comment in python are-\n",
    "i)- SINGLE LINE COMMENT(USING HASH)\n",
    "ii)- MULTILINE COMMENT(USING TRIPPLE INVERTED COMMA''')"
   ]
  },
  {
   "cell_type": "markdown",
   "id": "0e649abe-b1b9-4b07-80c4-24d01dc4dda7",
   "metadata": {},
   "source": [
    "Ans(2)- Variables in python are the symbolic names that is refrence or pointer to an object.\n",
    "            # We can use equals to(=) to assign and declare the value for that particular variable\n",
    "    "
   ]
  },
  {
   "cell_type": "code",
   "execution_count": 9,
   "id": "a86a1671-bb1f-4241-85e6-c8d29d60f328",
   "metadata": {},
   "outputs": [],
   "source": [
    "#e.g assigning value\n",
    "x = 3"
   ]
  },
  {
   "cell_type": "code",
   "execution_count": 10,
   "id": "67fc9706-3fdb-45d9-b88e-57c45c96c98e",
   "metadata": {},
   "outputs": [
    {
     "data": {
      "text/plain": [
       "3"
      ]
     },
     "execution_count": 10,
     "metadata": {},
     "output_type": "execute_result"
    }
   ],
   "source": [
    "x"
   ]
  },
  {
   "cell_type": "markdown",
   "id": "11150603-97aa-493d-b3ab-7861cdbd2ad6",
   "metadata": {},
   "source": [
    "Ans(3)- To convert between types, we simply use the type name as a function."
   ]
  },
  {
   "cell_type": "code",
   "execution_count": 2,
   "id": "cf80ca70-0b6a-4352-ba40-bae7848c0380",
   "metadata": {},
   "outputs": [],
   "source": [
    "#e.g\n",
    "y = 8"
   ]
  },
  {
   "cell_type": "code",
   "execution_count": 3,
   "id": "6e96bd5b-f901-4ae0-8595-e74e57755b70",
   "metadata": {},
   "outputs": [
    {
     "data": {
      "text/plain": [
       "int"
      ]
     },
     "execution_count": 3,
     "metadata": {},
     "output_type": "execute_result"
    }
   ],
   "source": [
    "type(y)"
   ]
  },
  {
   "cell_type": "code",
   "execution_count": 4,
   "id": "a149d3ae-84c2-4833-b538-cee957817799",
   "metadata": {},
   "outputs": [
    {
     "data": {
      "text/plain": [
       "'8'"
      ]
     },
     "execution_count": 4,
     "metadata": {},
     "output_type": "execute_result"
    }
   ],
   "source": [
    "str(y)"
   ]
  },
  {
   "cell_type": "code",
   "execution_count": 5,
   "id": "7018207f-6f58-4264-aa21-5968df81c025",
   "metadata": {},
   "outputs": [
    {
     "data": {
      "text/plain": [
       "str"
      ]
     },
     "execution_count": 5,
     "metadata": {},
     "output_type": "execute_result"
    }
   ],
   "source": [
    "type(str(y))"
   ]
  },
  {
   "cell_type": "code",
   "execution_count": null,
   "id": "9da25411-b83e-410d-8caf-c2d459952632",
   "metadata": {},
   "outputs": [],
   "source": [
    "#Ans(4)-To write and execute a python script from command line we can follow these steps:-\n",
    "#i) Firstly open notepad and write a code in it which you want to execute.\n",
    "  # e.g print\"Hello everyone\"\n",
    "#ii) Save this file with .py extension.\n",
    "   #e.g pthyon1\n",
    "#iii) Open command line and navigate towards the folder where you kept the python script.\n",
    "    # (you can also use \"cd\" to change directory)\n",
    "#iv) write pyhton \"file name\"\n",
    "   # e.g python pyhton1 and press enter \n",
    "#This will execute your python script and will print \" Hello everyone\" "
   ]
  },
  {
   "cell_type": "code",
   "execution_count": 2,
   "id": "d969f4b0-6a1b-4366-b0e3-c60b23e95ce2",
   "metadata": {},
   "outputs": [],
   "source": [
    "#Ans(5)\n",
    "my_list = [1,2,3,4]"
   ]
  },
  {
   "cell_type": "code",
   "execution_count": 5,
   "id": "cfbd4511-4a4f-48cf-bf4f-e4a798efd109",
   "metadata": {
    "jupyter": {
     "source_hidden": true
    },
    "tags": []
   },
   "outputs": [
    {
     "data": {
      "text/plain": [
       "[2, 3]"
      ]
     },
     "execution_count": 5,
     "metadata": {},
     "output_type": "execute_result"
    }
   ],
   "source": [
    "my_list[1:3]"
   ]
  },
  {
   "cell_type": "markdown",
   "id": "86ac7b5d-8b81-4a01-ba92-41aa4ec87c44",
   "metadata": {},
   "source": [
    "Ans 6) In mathematics, the complex number are the numbers that are expressed in the form of a+ib, where a,b are real numbers and 'i' is an imaginary number called “iota, but in pyhton the imaginary number is denoted as 'j'. e.g 3+2j"
   ]
  },
  {
   "cell_type": "markdown",
   "id": "7fe883a4-4f47-4d52-9012-e3443dca952d",
   "metadata": {},
   "source": [
    "Ans 7) To declare and assign a value to variable we can simply use '=' sign."
   ]
  },
  {
   "cell_type": "code",
   "execution_count": 2,
   "id": "930a75ab-3c03-46ff-9ad5-16283b43aa79",
   "metadata": {},
   "outputs": [],
   "source": [
    "#e.g\n",
    "Age = 25"
   ]
  },
  {
   "cell_type": "code",
   "execution_count": 4,
   "id": "43d544e1-9428-4572-921b-c871fe03caf1",
   "metadata": {},
   "outputs": [
    {
     "data": {
      "text/plain": [
       "25"
      ]
     },
     "execution_count": 4,
     "metadata": {},
     "output_type": "execute_result"
    }
   ],
   "source": [
    "Age"
   ]
  },
  {
   "cell_type": "code",
   "execution_count": 8,
   "id": "054395db-3b38-4f52-b1ee-044175db119c",
   "metadata": {},
   "outputs": [],
   "source": [
    "#Ans 8)\n",
    "Price = 9.99\n",
    "#This is flaot type data assigned to Price"
   ]
  },
  {
   "cell_type": "code",
   "execution_count": 7,
   "id": "e4adaed6-0bf1-42c1-b04e-db6bf5ae96f7",
   "metadata": {},
   "outputs": [
    {
     "data": {
      "text/plain": [
       "float"
      ]
     },
     "execution_count": 7,
     "metadata": {},
     "output_type": "execute_result"
    }
   ],
   "source": [
    "type(Price)"
   ]
  },
  {
   "cell_type": "code",
   "execution_count": 9,
   "id": "3abedb28-c15d-4edc-8107-93045a461325",
   "metadata": {},
   "outputs": [],
   "source": [
    "#Ans 9)\n",
    "name = \"ayush\""
   ]
  },
  {
   "cell_type": "code",
   "execution_count": 10,
   "id": "aded0a4e-7735-4a91-b9e9-4cabdcf25839",
   "metadata": {},
   "outputs": [
    {
     "name": "stdout",
     "output_type": "stream",
     "text": [
      "ayush\n"
     ]
    }
   ],
   "source": [
    "print(name)"
   ]
  },
  {
   "cell_type": "code",
   "execution_count": 15,
   "id": "e0168175-0e61-428d-bbd2-bf7a83425d4d",
   "metadata": {},
   "outputs": [],
   "source": [
    "#Ans 10)\n",
    "P = \"Hello, world!\""
   ]
  },
  {
   "cell_type": "code",
   "execution_count": 14,
   "id": "040c6620-6f09-4f45-ae0f-dac541075c49",
   "metadata": {},
   "outputs": [
    {
     "data": {
      "text/plain": [
       "'world'"
      ]
     },
     "execution_count": 14,
     "metadata": {},
     "output_type": "execute_result"
    }
   ],
   "source": [
    "P[7:12:1]"
   ]
  },
  {
   "cell_type": "code",
   "execution_count": 20,
   "id": "4b08db8d-45ca-4c14-9211-5b89dec03702",
   "metadata": {},
   "outputs": [],
   "source": [
    "#Ans 11)\n",
    "is_student = True"
   ]
  },
  {
   "cell_type": "code",
   "execution_count": 19,
   "id": "fa516076-f94f-40a2-b3a8-88efa4c14bfa",
   "metadata": {},
   "outputs": [
    {
     "name": "stdout",
     "output_type": "stream",
     "text": [
      "True\n"
     ]
    }
   ],
   "source": [
    "print(is_student)"
   ]
  },
  {
   "cell_type": "code",
   "execution_count": null,
   "id": "39152ad0-8219-4a65-ac03-a1b65c70d66d",
   "metadata": {},
   "outputs": [],
   "source": []
  }
 ],
 "metadata": {
  "kernelspec": {
   "display_name": "Python 3 (ipykernel)",
   "language": "python",
   "name": "python3"
  },
  "language_info": {
   "codemirror_mode": {
    "name": "ipython",
    "version": 3
   },
   "file_extension": ".py",
   "mimetype": "text/x-python",
   "name": "python",
   "nbconvert_exporter": "python",
   "pygments_lexer": "ipython3",
   "version": "3.10.8"
  }
 },
 "nbformat": 4,
 "nbformat_minor": 5
}
